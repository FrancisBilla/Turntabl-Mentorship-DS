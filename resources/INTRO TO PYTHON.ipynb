{
 "cells": [
  {
   "cell_type": "markdown",
   "metadata": {},
   "source": [
    "# What is Python?"
   ]
  },
  {
   "cell_type": "markdown",
   "metadata": {},
   "source": [
    "\n",
    "\n",
    "    - A programming language!\n",
    "    - Built-in data types\n",
    "    - Control flow\n",
    "    - Modules\n",
    "    - Loads of open-source (free!) code you can use\n"
   ]
  },
  {
   "cell_type": "raw",
   "metadata": {},
   "source": []
  },
  {
   "cell_type": "markdown",
   "metadata": {},
   "source": [
    "# Hello, Python!"
   ]
  },
  {
   "cell_type": "raw",
   "metadata": {},
   "source": [
    "print (\"hello, World!\")"
   ]
  },
  {
   "cell_type": "markdown",
   "metadata": {},
   "source": [
    "Useful for experimenting. Try it!"
   ]
  },
  {
   "cell_type": "raw",
   "metadata": {},
   "source": []
  },
  {
   "cell_type": "markdown",
   "metadata": {},
   "source": [
    "# Data types"
   ]
  },
  {
   "cell_type": "markdown",
   "metadata": {},
   "source": [
    "Every variable has a type..."
   ]
  },
  {
   "cell_type": "raw",
   "metadata": {},
   "source": [
    ">>> type(\"hello\")\n",
    "<type 'str'\n",
    ">>>> type(5)\n",
    "<type 'int'\n",
    ">>>> type(b'hello')\n",
    "<type 'byte'>"
   ]
  },
  {
   "cell_type": "markdown",
   "metadata": {},
   "source": [
    "...that describes "
   ]
  },
  {
   "cell_type": "raw",
   "metadata": {},
   "source": [
    "Python have the following Data types:\n",
    "   - String, Numeric\n",
    "   - List\n",
    "   - Dictionary\n",
    "   - Tuple\n",
    "   - Byte\n",
    "   - Byte Array\n",
    "   - Range\n"
   ]
  },
  {
   "cell_type": "raw",
   "metadata": {},
   "source": []
  },
  {
   "cell_type": "raw",
   "metadata": {},
   "source": []
  },
  {
   "cell_type": "markdown",
   "metadata": {},
   "source": [
    "# 1: Basics"
   ]
  },
  {
   "cell_type": "markdown",
   "metadata": {},
   "source": [
    "Try the following in the your Notebook Cell. What do they do?"
   ]
  },
  {
   "cell_type": "raw",
   "metadata": {},
   "source": [
    "print (\"hello\")"
   ]
  },
  {
   "cell_type": "raw",
   "metadata": {},
   "source": [
    "print ('hello')   "
   ]
  },
  {
   "cell_type": "raw",
   "metadata": {},
   "source": [
    "print (hello)"
   ]
  },
  {
   "cell_type": "markdown",
   "metadata": {},
   "source": [
    "### Let's do some maths!"
   ]
  },
  {
   "cell_type": "raw",
   "metadata": {},
   "source": [
    "(4 + 5)"
   ]
  },
  {
   "cell_type": "raw",
   "metadata": {},
   "source": [
    "(8 * 3)"
   ]
  },
  {
   "cell_type": "raw",
   "metadata": {},
   "source": [
    "(4 / 3)"
   ]
  },
  {
   "cell_type": "raw",
   "metadata": {},
   "source": [
    "(4.0 / 3)"
   ]
  },
  {
   "cell_type": "raw",
   "metadata": {},
   "source": [
    "(3 + 5 * 9)"
   ]
  },
  {
   "cell_type": "markdown",
   "metadata": {},
   "source": [
    "### Adding Strings?"
   ]
  },
  {
   "cell_type": "raw",
   "metadata": {},
   "source": [
    "(\"abc\" + \"def\")"
   ]
  },
  {
   "cell_type": "raw",
   "metadata": {},
   "source": [
    "(\"hello\" + \" \" + \"world\")"
   ]
  },
  {
   "cell_type": "raw",
   "metadata": {},
   "source": [
    "(\"123\" + \"5\")"
   ]
  },
  {
   "cell_type": "raw",
   "metadata": {},
   "source": []
  },
  {
   "cell_type": "markdown",
   "metadata": {},
   "source": [
    "## Variables!"
   ]
  },
  {
   "cell_type": "raw",
   "metadata": {},
   "source": [
    "first = \"hello\""
   ]
  },
  {
   "cell_type": "raw",
   "metadata": {},
   "source": [
    "second = \"world\""
   ]
  },
  {
   "cell_type": "raw",
   "metadata": {},
   "source": [
    "first + \" \" + second"
   ]
  },
  {
   "cell_type": "raw",
   "metadata": {},
   "source": [
    "type(first)"
   ]
  },
  {
   "cell_type": "raw",
   "metadata": {},
   "source": [
    "print (first)"
   ]
  },
  {
   "cell_type": "raw",
   "metadata": {},
   "source": []
  },
  {
   "cell_type": "markdown",
   "metadata": {},
   "source": [
    "### User input?"
   ]
  },
  {
   "cell_type": "raw",
   "metadata": {},
   "source": [
    "name = input(\"What is your name?\")"
   ]
  },
  {
   "cell_type": "raw",
   "metadata": {},
   "source": [
    "type(name)"
   ]
  },
  {
   "cell_type": "raw",
   "metadata": {},
   "source": [
    "age = input(\"What is your age?\")"
   ]
  },
  {
   "cell_type": "raw",
   "metadata": {},
   "source": [
    "type(age)"
   ]
  },
  {
   "cell_type": "markdown",
   "metadata": {},
   "source": [
    "#### Write some code that:"
   ]
  },
  {
   "cell_type": "raw",
   "metadata": {},
   "source": [
    "1. Converts 32 degrees to radian (HINT: math.pi!).\n",
    "2. Asks the user for a radius then prints out the surface area and volume of a sphere.\n",
    "3. Tells the user what time of day it is, in a nice format.\n",
    "4. Splits a sentence into its words\n",
    "5. Joins a list of words into a sentence. Find TWO ways to do this!"
   ]
  },
  {
   "cell_type": "markdown",
   "metadata": {},
   "source": [
    "# 2: Functions"
   ]
  },
  {
   "cell_type": "raw",
   "metadata": {},
   "source": []
  },
  {
   "cell_type": "code",
   "execution_count": null,
   "metadata": {},
   "outputs": [],
   "source": []
  },
  {
   "cell_type": "code",
   "execution_count": null,
   "metadata": {},
   "outputs": [],
   "source": []
  },
  {
   "cell_type": "code",
   "execution_count": null,
   "metadata": {},
   "outputs": [],
   "source": []
  }
 ],
 "metadata": {
  "kernelspec": {
   "display_name": "Python 3",
   "language": "python",
   "name": "python3"
  },
  "language_info": {
   "codemirror_mode": {
    "name": "ipython",
    "version": 3
   },
   "file_extension": ".py",
   "mimetype": "text/x-python",
   "name": "python",
   "nbconvert_exporter": "python",
   "pygments_lexer": "ipython3",
   "version": "3.6.8"
  }
 },
 "nbformat": 4,
 "nbformat_minor": 2
}
