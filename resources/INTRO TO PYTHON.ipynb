{
 "cells": [
  {
   "cell_type": "markdown",
   "metadata": {},
   "source": [
    "# What is Python?"
   ]
  },
  {
   "cell_type": "markdown",
   "metadata": {},
   "source": [
    "\n",
    "\n",
    "    - A programming language!\n",
    "    - Built-in data types\n",
    "    - Control flow\n",
    "    - Modules\n",
    "    - Loads of open-source (free!) code you can use\n"
   ]
  },
  {
   "cell_type": "raw",
   "metadata": {},
   "source": []
  },
  {
   "cell_type": "markdown",
   "metadata": {},
   "source": [
    "# Hello, Python!"
   ]
  },
  {
   "cell_type": "raw",
   "metadata": {},
   "source": [
    "print (\"hello, World!\")"
   ]
  },
  {
   "cell_type": "markdown",
   "metadata": {},
   "source": [
    "Useful for experimenting. Try it!"
   ]
  },
  {
   "cell_type": "raw",
   "metadata": {},
   "source": []
  },
  {
   "cell_type": "markdown",
   "metadata": {},
   "source": [
    "# Data types"
   ]
  },
  {
   "cell_type": "markdown",
   "metadata": {},
   "source": [
    "Every variable has a type..."
   ]
  },
  {
   "cell_type": "raw",
   "metadata": {},
   "source": [
    ">>> type(\"hello\")\n",
    "\n",
    "<type 'str'\n",
    "\n",
    "\n",
    ">>>> type(5)\n",
    "\n",
    "<type 'int'\n",
    "\n",
    "\n",
    ">>>> type(b'hello')\n",
    "<type 'byte'>"
   ]
  },
  {
   "cell_type": "markdown",
   "metadata": {},
   "source": [
    "...that describes "
   ]
  },
  {
   "cell_type": "raw",
   "metadata": {},
   "source": [
    "Python have the following Data types:\n",
    "   - String, Numeric   \n",
    "   - List\n",
    "   - Dictionary\n",
    "   - Tuple\n",
    "   - Byte\n",
    "   - Byte Array\n",
    "   - Range\n"
   ]
  },
  {
   "cell_type": "raw",
   "metadata": {},
   "source": []
  },
  {
   "cell_type": "raw",
   "metadata": {},
   "source": []
  },
  {
   "cell_type": "markdown",
   "metadata": {},
   "source": [
    "# 1: Basics"
   ]
  },
  {
   "cell_type": "markdown",
   "metadata": {},
   "source": [
    "Try the following in the your Notebook Cell. What do they do?"
   ]
  },
  {
   "cell_type": "raw",
   "metadata": {},
   "source": [
    "print (\"hello\")"
   ]
  },
  {
   "cell_type": "raw",
   "metadata": {},
   "source": [
    "print ('hello')   "
   ]
  },
  {
   "cell_type": "raw",
   "metadata": {},
   "source": [
    "print (hello)"
   ]
  },
  {
   "cell_type": "markdown",
   "metadata": {},
   "source": [
    "### Let's do some maths!"
   ]
  },
  {
   "cell_type": "raw",
   "metadata": {},
   "source": [
    "(4 + 5)"
   ]
  },
  {
   "cell_type": "raw",
   "metadata": {},
   "source": [
    "(8 * 3)"
   ]
  },
  {
   "cell_type": "raw",
   "metadata": {},
   "source": [
    "(4 / 3)"
   ]
  },
  {
   "cell_type": "raw",
   "metadata": {},
   "source": [
    "(4.0 / 3)"
   ]
  },
  {
   "cell_type": "raw",
   "metadata": {},
   "source": [
    "(3 + 5 * 9)"
   ]
  },
  {
   "cell_type": "markdown",
   "metadata": {},
   "source": [
    "### Adding Strings?"
   ]
  },
  {
   "cell_type": "raw",
   "metadata": {},
   "source": [
    "(\"abc\" + \"def\")"
   ]
  },
  {
   "cell_type": "raw",
   "metadata": {},
   "source": [
    "(\"hello\" + \" \" + \"world\")"
   ]
  },
  {
   "cell_type": "raw",
   "metadata": {},
   "source": [
    "(\"123\" + \"5\")"
   ]
  },
  {
   "cell_type": "raw",
   "metadata": {},
   "source": []
  },
  {
   "cell_type": "markdown",
   "metadata": {},
   "source": [
    "## Variables!"
   ]
  },
  {
   "cell_type": "raw",
   "metadata": {},
   "source": [
    "first = \"hello\""
   ]
  },
  {
   "cell_type": "raw",
   "metadata": {},
   "source": [
    "second = \"world\""
   ]
  },
  {
   "cell_type": "raw",
   "metadata": {},
   "source": [
    "first + \" \" + second"
   ]
  },
  {
   "cell_type": "raw",
   "metadata": {},
   "source": [
    "type(first)"
   ]
  },
  {
   "cell_type": "raw",
   "metadata": {},
   "source": [
    "print (first)"
   ]
  },
  {
   "cell_type": "raw",
   "metadata": {},
   "source": []
  },
  {
   "cell_type": "markdown",
   "metadata": {},
   "source": [
    "### User input?"
   ]
  },
  {
   "cell_type": "raw",
   "metadata": {},
   "source": [
    "name = input(\"What is your name?\")"
   ]
  },
  {
   "cell_type": "raw",
   "metadata": {},
   "source": [
    "type(name)"
   ]
  },
  {
   "cell_type": "raw",
   "metadata": {},
   "source": [
    "age = input(\"What is your age?\")"
   ]
  },
  {
   "cell_type": "raw",
   "metadata": {},
   "source": [
    "type(age)"
   ]
  },
  {
   "cell_type": "markdown",
   "metadata": {},
   "source": [
    "#### Write some code that:"
   ]
  },
  {
   "cell_type": "raw",
   "metadata": {},
   "source": [
    "1. Converts 32 degrees to radian (HINT: math.pi!).\n",
    "2. Asks the user for a radius then prints out the surface area and volume of a sphere.\n",
    "3. Tells the user what time of day it is, in a nice format.\n",
    "4. Splits a sentence into its words\n",
    "5. Joins a list of words into a sentence. Find TWO ways to do this!"
   ]
  },
  {
   "cell_type": "markdown",
   "metadata": {},
   "source": [
    "# 2: Functions"
   ]
  },
  {
   "cell_type": "raw",
   "metadata": {},
   "source": [
    "def say(what):\n",
    "    print (what)\n",
    "    \n",
    "say(\"hello\")\n",
    "say(1)  # ?\n",
    "say([1]) "
   ]
  },
  {
   "cell_type": "raw",
   "metadata": {},
   "source": [
    "def tellMeASecret():\n",
    "    return \"$eCr3t\" \n",
    "\n",
    "print (tellMeASecret())"
   ]
  },
  {
   "cell_type": "markdown",
   "metadata": {},
   "source": [
    "1. Write a function called get_age that asks the user for their age, and returns it as an int\n",
    "\n",
    "2. Write another function called get_name, which does the same but for the users name.\n",
    "\n",
    "3. Call both these functions and tell the user what you know about them!"
   ]
  },
  {
   "cell_type": "markdown",
   "metadata": {},
   "source": [
    "4. Write a function called calculate that takes one string and two int arguments. The string should be \"add\", \"subtract\", \"multiply\" or \"divide\", or any of those words in uppercase. The calculate function should then do the right operation with the two numbers and return the result"
   ]
  },
  {
   "cell_type": "markdown",
   "metadata": {},
   "source": [
    "# 3: LOOPS"
   ]
  },
  {
   "cell_type": "raw",
   "metadata": {},
   "source": [
    "i = 0\n",
    "while(i < 10):\n",
    "    i = i + 1\n",
    "    print (i)"
   ]
  },
  {
   "cell_type": "raw",
   "metadata": {},
   "source": [
    "\n",
    "1.    Explain what's happening. Can you print the numbers from 7 to 19?\n",
    "2.    Can you print all the even numbers between 12 and 20?\n",
    "3.    Write a function called evens that takes two numbers and prints all the even numbers between them.\n",
    "4.    Write another function, reverse_evens, that does the same but prints the numbers in reverse.\n"
   ]
  },
  {
   "cell_type": "code",
   "execution_count": null,
   "metadata": {},
   "outputs": [],
   "source": []
  }
 ],
 "metadata": {
  "kernelspec": {
   "display_name": "Python 3",
   "language": "python",
   "name": "python3"
  },
  "language_info": {
   "codemirror_mode": {
    "name": "ipython",
    "version": 3
   },
   "file_extension": ".py",
   "mimetype": "text/x-python",
   "name": "python",
   "nbconvert_exporter": "python",
   "pygments_lexer": "ipython3",
   "version": "3.6.8"
  }
 },
 "nbformat": 4,
 "nbformat_minor": 2
}
